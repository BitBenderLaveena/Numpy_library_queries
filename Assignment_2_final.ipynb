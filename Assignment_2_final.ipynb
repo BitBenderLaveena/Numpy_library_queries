{
 "cells": [
  {
   "cell_type": "code",
   "execution_count": 1,
   "metadata": {},
   "outputs": [],
   "source": [
    "x=[11,20,8,24,11,31,11,23,6,30,10,25,7,26,15,21,12,29,10,25,-13,24,9,24,9,22,9,21,10,24,9,30,9,29,7,28,14,22,7,23,7,25,10,31,13,28,9,25,13,26,9,29,8,21,13,22,7,26,12,30,11,32,12,22,12,32,9,22,13,28,13,26,10,22,12,26,13,22,11,27,9,29,13,26,15,21,11,23,9,25,8,31,8,32,6,26,11,26,12,20,10,29,9,22,15,20,10,29,14,22,8,26,7,20,8,21,4,21,7,21,2,21,5,7,21,2,3,21,3,18,6,22,7,18,6,22,4,2,20,2,3,20,8,22,2,18,6,22,8,22,5,7,18,5,5,18,3,21,7,20,3,18,2,19,8,4,21,3,8,22,8,20,-10,22,12,22,7,20,11,71,22,10,11,21,9,22,12,18,8,20,12,21,8,10,21,9,8,22,11,19,11,19,9,18,10,18,8,7,22,10,9,20,12,19,7,21,10,21,9,20,8,10,19,12]"
   ]
  },
  {
   "cell_type": "code",
   "execution_count": 2,
   "metadata": {},
   "outputs": [
    {
     "name": "stdout",
     "output_type": "stream",
     "text": [
      "[11, 20, 8, 24, 11, 31, 11, 23, 6, 30, 10, 25, 7, 26, 15, 21, 12, 29, 10, 25, -13, 24, 9, 24, 9, 22, 9, 21, 10, 24, 9, 30, 9, 29, 7, 28, 14, 22, 7, 23, 7, 25, 10, 31, 13, 28, 9, 25, 13, 26, 9, 29, 8, 21, 13, 22, 7, 26, 12, 30, 11, 32, 12, 22, 12, 32, 9, 22, 13, 28, 13, 26, 10, 22, 12, 26, 13, 22, 11, 27, 9, 29, 13, 26, 15, 21, 11, 23, 9, 25, 8, 31, 8, 32, 6, 26, 11, 26, 12, 20, 10, 29, 9, 22, 15, 20, 10, 29, 14, 22, 8, 26, 7, 20, 8, 21, 4, 21, 7, 21, 2, 21, 5, 7, 21, 2, 3, 21, 3, 18, 6, 22, 7, 18, 6, 22, 4, 2, 20, 2, 3, 20, 8, 22, 2, 18, 6, 22, 8, 22, 5, 7, 18, 5, 5, 18, 3, 21, 7, 20, 3, 18, 2, 19, 8, 4, 21, 3, 8, 22, 8, 20, -10, 22, 12, 22, 7, 20, 11, 71, 22, 10, 11, 21, 9, 22, 12, 18, 8, 20, 12, 21, 8, 10, 21, 9, 8, 22, 11, 19, 11, 19, 9, 18, 10, 18, 8, 7, 22, 10, 9, 20, 12, 19, 7, 21, 10, 21, 9, 20, 8, 10, 19, 12]\n"
     ]
    }
   ],
   "source": [
    "print(x)"
   ]
  },
  {
   "cell_type": "code",
   "execution_count": 3,
   "metadata": {},
   "outputs": [
    {
     "name": "stdout",
     "output_type": "stream",
     "text": [
      "[ 11  20   8  24  11  31  11  23   6  30  10  25   7  26  15  21  12  29\n",
      "  10  25 -13  24   9  24   9  22   9  21  10  24   9  30   9  29   7  28\n",
      "  14  22   7  23   7  25  10  31  13  28   9  25  13  26   9  29   8  21\n",
      "  13  22   7  26  12  30  11  32  12  22  12  32   9  22  13  28  13  26\n",
      "  10  22  12  26  13  22  11  27   9  29  13  26  15  21  11  23   9  25\n",
      "   8  31   8  32   6  26  11  26  12  20  10  29   9  22  15  20  10  29\n",
      "  14  22   8  26   7  20   8  21   4  21   7  21   2  21   5   7  21   2\n",
      "   3  21   3  18   6  22   7  18   6  22   4   2  20   2   3  20   8  22\n",
      "   2  18   6  22   8  22   5   7  18   5   5  18   3  21   7  20   3  18\n",
      "   2  19   8   4  21   3   8  22   8  20 -10  22  12  22   7  20  11  71\n",
      "  22  10  11  21   9  22  12  18   8  20  12  21   8  10  21   9   8  22\n",
      "  11  19  11  19   9  18  10  18   8   7  22  10   9  20  12  19   7  21\n",
      "  10  21   9  20   8  10  19  12]\n"
     ]
    }
   ],
   "source": [
    "import numpy as np\n",
    "arr=np.array(x)\n",
    "print(arr)"
   ]
  },
  {
   "cell_type": "code",
   "execution_count": 38,
   "metadata": {},
   "outputs": [
    {
     "data": {
      "text/plain": [
       "array([[[[ 11,  20],\n",
       "         [  8,  24],\n",
       "         [ 11,  31],\n",
       "         [ 11,  23],\n",
       "         [  6,  30],\n",
       "         [ 10,  25],\n",
       "         [  7,  26]],\n",
       "\n",
       "        [[ 15,  21],\n",
       "         [ 12,  29],\n",
       "         [ 10,  25],\n",
       "         [-13,  24],\n",
       "         [  9,  24],\n",
       "         [  9,  22],\n",
       "         [  9,  21]],\n",
       "\n",
       "        [[ 10,  24],\n",
       "         [  9,  30],\n",
       "         [  9,  29],\n",
       "         [  7,  28],\n",
       "         [ 14,  22],\n",
       "         [  7,  23],\n",
       "         [  7,  25]],\n",
       "\n",
       "        [[ 10,  31],\n",
       "         [ 13,  28],\n",
       "         [  9,  25],\n",
       "         [ 13,  26],\n",
       "         [  9,  29],\n",
       "         [  8,  21],\n",
       "         [ 13,  22]]],\n",
       "\n",
       "\n",
       "       [[[  7,  26],\n",
       "         [ 12,  30],\n",
       "         [ 11,  32],\n",
       "         [ 12,  22],\n",
       "         [ 12,  32],\n",
       "         [  9,  22],\n",
       "         [ 13,  28]],\n",
       "\n",
       "        [[ 13,  26],\n",
       "         [ 10,  22],\n",
       "         [ 12,  26],\n",
       "         [ 13,  22],\n",
       "         [ 11,  27],\n",
       "         [  9,  29],\n",
       "         [ 13,  26]],\n",
       "\n",
       "        [[ 15,  21],\n",
       "         [ 11,  23],\n",
       "         [  9,  25],\n",
       "         [  8,  31],\n",
       "         [  8,  32],\n",
       "         [  6,  26],\n",
       "         [ 11,  26]],\n",
       "\n",
       "        [[ 12,  20],\n",
       "         [ 10,  29],\n",
       "         [  9,  22],\n",
       "         [ 15,  20],\n",
       "         [ 10,  29],\n",
       "         [ 14,  22],\n",
       "         [  8,  26]]],\n",
       "\n",
       "\n",
       "       [[[  7,  20],\n",
       "         [  8,  21],\n",
       "         [  4,  21],\n",
       "         [  7,  21],\n",
       "         [  2,  21],\n",
       "         [  5,   7],\n",
       "         [ 21,   2]],\n",
       "\n",
       "        [[  3,  21],\n",
       "         [  3,  18],\n",
       "         [  6,  22],\n",
       "         [  7,  18],\n",
       "         [  6,  22],\n",
       "         [  4,   2],\n",
       "         [ 20,   2]],\n",
       "\n",
       "        [[  3,  20],\n",
       "         [  8,  22],\n",
       "         [  2,  18],\n",
       "         [  6,  22],\n",
       "         [  8,  22],\n",
       "         [  5,   7],\n",
       "         [ 18,   5]],\n",
       "\n",
       "        [[  5,  18],\n",
       "         [  3,  21],\n",
       "         [  7,  20],\n",
       "         [  3,  18],\n",
       "         [  2,  19],\n",
       "         [  8,   4],\n",
       "         [ 21,   3]]],\n",
       "\n",
       "\n",
       "       [[[  8,  22],\n",
       "         [  8,  20],\n",
       "         [-10,  22],\n",
       "         [ 12,  22],\n",
       "         [  7,  20],\n",
       "         [ 11,  71],\n",
       "         [ 22,  10]],\n",
       "\n",
       "        [[ 11,  21],\n",
       "         [  9,  22],\n",
       "         [ 12,  18],\n",
       "         [  8,  20],\n",
       "         [ 12,  21],\n",
       "         [  8,  10],\n",
       "         [ 21,   9]],\n",
       "\n",
       "        [[  8,  22],\n",
       "         [ 11,  19],\n",
       "         [ 11,  19],\n",
       "         [  9,  18],\n",
       "         [ 10,  18],\n",
       "         [  8,   7],\n",
       "         [ 22,  10]],\n",
       "\n",
       "        [[  9,  20],\n",
       "         [ 12,  19],\n",
       "         [  7,  21],\n",
       "         [ 10,  21],\n",
       "         [  9,  20],\n",
       "         [  8,  10],\n",
       "         [ 19,  12]]]])"
      ]
     },
     "execution_count": 38,
     "metadata": {},
     "output_type": "execute_result"
    }
   ],
   "source": [
    "#question 1\n",
    "arr2=arr.reshape((4,4,7,2))\n",
    "arr2"
   ]
  },
  {
   "cell_type": "code",
   "execution_count": 5,
   "metadata": {},
   "outputs": [
    {
     "name": "stdout",
     "output_type": "stream",
     "text": [
      "4\n",
      "(4, 4, 7, 2)\n"
     ]
    }
   ],
   "source": [
    "#question 2\n",
    "print(arr2.ndim)\n",
    "print(arr2.shape)"
   ]
  },
  {
   "cell_type": "code",
   "execution_count": 6,
   "metadata": {},
   "outputs": [
    {
     "name": "stdout",
     "output_type": "stream",
     "text": [
      "Printing daily temp for first week of nov month\n",
      "[[11 20]\n",
      " [ 8 24]\n",
      " [11 31]\n",
      " [11 23]\n",
      " [ 6 30]\n",
      " [10 25]\n",
      " [ 7 26]]\n",
      "Printing daily temp for first week of dec month\n",
      "[[ 7 26]\n",
      " [12 30]\n",
      " [11 32]\n",
      " [12 22]\n",
      " [12 32]\n",
      " [ 9 22]\n",
      " [13 28]]\n",
      "Printing daily temp for first week of jan month\n",
      "[[ 7 20]\n",
      " [ 8 21]\n",
      " [ 4 21]\n",
      " [ 7 21]\n",
      " [ 2 21]\n",
      " [ 5  7]\n",
      " [21  2]]\n",
      "Printing daily temp for first week of feb month\n",
      "[[  8  22]\n",
      " [  8  20]\n",
      " [-10  22]\n",
      " [ 12  22]\n",
      " [  7  20]\n",
      " [ 11  71]\n",
      " [ 22  10]]\n"
     ]
    }
   ],
   "source": [
    "#question 3\n",
    "print(\"Printing daily temp for first week of nov month\")\n",
    "print(arr2[0,0,:,:])\n",
    "print(\"Printing daily temp for first week of dec month\")\n",
    "print(arr2[1,0,:,:])\n",
    "print(\"Printing daily temp for first week of jan month\")\n",
    "print(arr2[2,0,:,:])\n",
    "print(\"Printing daily temp for first week of feb month\")\n",
    "print(arr2[3,0,:,:])"
   ]
  },
  {
   "cell_type": "code",
   "execution_count": 7,
   "metadata": {},
   "outputs": [
    {
     "name": "stdout",
     "output_type": "stream",
     "text": [
      "Temperature for tuesday of each month: \n",
      "[[[ 8 24]\n",
      "  [12 29]\n",
      "  [ 9 30]\n",
      "  [13 28]]\n",
      "\n",
      " [[12 30]\n",
      "  [10 22]\n",
      "  [11 23]\n",
      "  [10 29]]\n",
      "\n",
      " [[ 8 21]\n",
      "  [ 3 18]\n",
      "  [ 8 22]\n",
      "  [ 3 21]]\n",
      "\n",
      " [[ 8 20]\n",
      "  [ 9 22]\n",
      "  [11 19]\n",
      "  [12 19]]]\n"
     ]
    }
   ],
   "source": [
    "#question 4\n",
    "print(\"Temperature for tuesday of each month: \")\n",
    "print(arr2[:,:,1,:])"
   ]
  },
  {
   "cell_type": "code",
   "execution_count": 8,
   "metadata": {},
   "outputs": [
    {
     "name": "stdout",
     "output_type": "stream",
     "text": [
      "Max temp for all week days of dec and feb\n",
      "[[[26 30 32 22 32]\n",
      "  [26 22 26 22 27]\n",
      "  [21 23 25 31 32]\n",
      "  [20 29 22 20 29]]\n",
      "\n",
      " [[22 20 22 22 20]\n",
      "  [21 22 18 20 21]\n",
      "  [22 19 19 18 18]\n",
      "  [20 19 21 21 20]]]\n"
     ]
    }
   ],
   "source": [
    "#question 5\n",
    "print(\"Max temp for all week days of dec and feb\")\n",
    "print(arr2[1::2,:,0:5,1])\n"
   ]
  },
  {
   "cell_type": "code",
   "execution_count": 18,
   "metadata": {},
   "outputs": [
    {
     "name": "stdout",
     "output_type": "stream",
     "text": [
      " days along with the week number in November when the minimum temperature was less than 8 degrees.\n",
      "Temperature less than 8 present are: [  6   7 -13   7   7   7]\n",
      "(array([0, 0, 1, 2, 2, 2], dtype=int64), array([4, 6, 3, 3, 5, 6], dtype=int64), array([0, 0, 0, 0, 0, 0], dtype=int64))\n",
      "week: 1   day: Friday\n",
      "week: 1   day: Sunday\n",
      "week: 2   day: Thursday\n",
      "week: 3   day: Thursday\n",
      "week: 3   day: Saturday\n",
      "week: 3   day: Sunday\n"
     ]
    }
   ],
   "source": [
    "#question 6\n",
    "print(\" days along with the week number in November when the minimum temperature was less than 8 degrees.\") \n",
    "nov=arr2[0]\n",
    "print(\"Temperature less than 8 present are:\",nov[arr2[0]<8])\n",
    "var=np.where(nov<8)\n",
    "print(var)\n",
    "week=var[0]\n",
    "day=var[1]\n",
    "days={0:'Monday',1:'Tuesday',2:'Wednesday',3:'Thursday',4:'Friday',5:'Saturday',6:'Sunday'}\n",
    "for i in range(6):\n",
    "    x=0\n",
    "    print(\"week:\",var[0][i]+1,\"  day:\",days[var[1][i]])\n",
    "    x=x+1"
   ]
  },
  {
   "cell_type": "code",
   "execution_count": 32,
   "metadata": {},
   "outputs": [
    {
     "name": "stdout",
     "output_type": "stream",
     "text": [
      "All the weeks in Dec and Jan where the maximum temperature has crossed a threshold of 20 degrees.\n",
      "For Dec:\n",
      "Max Temperature more than 20 present are: [26 30 32 22 32 22 28 26 22 26 22 27 29 26 21 23 25 31 32 26 26 29 22 29\n",
      " 22 26]\n",
      "Indexes: (array([0, 0, 0, 0, 0, 0, 0, 1, 1, 1, 1, 1, 1, 1, 2, 2, 2, 2, 2, 2, 2, 3,\n",
      "       3, 3, 3, 3], dtype=int64), array([0, 1, 2, 3, 4, 5, 6, 0, 1, 2, 3, 4, 5, 6, 0, 1, 2, 3, 4, 5, 6, 1,\n",
      "       2, 4, 5, 6], dtype=int64))\n",
      "weeks: [1 1 1 1 1 1 1 2 2 2 2 2 2 2 3 3 3 3 3 3 3 4 4 4 4 4]\n",
      "For Jan:\n",
      "Max Temperature more than 20 present are: [21 21 21 21 21 22 22 22 22 22 21]\n",
      "Indexes: (array([0, 0, 0, 0, 1, 1, 1, 2, 2, 2, 3], dtype=int64), array([1, 2, 3, 4, 0, 2, 4, 1, 3, 4, 1], dtype=int64))\n",
      "week: 1\n",
      "week: 1\n",
      "week: 1\n",
      "week: 1\n",
      "week: 2\n",
      "week: 2\n",
      "week: 2\n",
      "week: 3\n",
      "week: 3\n",
      "week: 3\n",
      "week: 4\n"
     ]
    }
   ],
   "source": [
    "#question 7\n",
    "print(\"All the weeks in Dec and Jan where the maximum temperature has crossed a threshold of 20 degrees.\") \n",
    "print(\"For Dec:\")\n",
    "dj=arr2[1,:,:,1]\n",
    "print(\"Max Temperature more than 20 present are:\",dj[dj>20])\n",
    "var=np.where(dj>20)\n",
    "print(\"Indexes:\",var)\n",
    "week=var[0]\n",
    "print(\"weeks:\",var[0]+1)\n",
    "print(\"For Jan:\")\n",
    "dj=arr2[2,:,:,1]\n",
    "print(\"Max Temperature more than 20 present are:\",dj[dj>20])\n",
    "var=np.where(dj>20)\n",
    "print(\"Indexes:\",var)\n",
    "week=var[0]\n",
    "for i in week:\n",
    "    print(\"week:\",i+1)\n",
    "\n",
    "\n",
    "    \n"
   ]
  },
  {
   "cell_type": "code",
   "execution_count": 35,
   "metadata": {},
   "outputs": [
    {
     "name": "stdout",
     "output_type": "stream",
     "text": [
      "Check for absurd values\n",
      "First quantile: 8.75\n",
      "Second quantile: 13.0\n",
      "Third quantile: 22.0\n",
      "PRINTING OUTLIERS:)\n",
      "Lower limit: -11.125\n",
      "Upper limit: 41.875\n",
      "Values not in range (-11.125, 41.875) are Absurd values\n",
      "[-13] [71] are the absurd values\n"
     ]
    }
   ],
   "source": [
    "#question 8\n",
    "print(\"Check for absurd values\")\n",
    "q1=float(np.quantile(arr2,0.25))\n",
    "print(\"First quantile:\",q1)\n",
    "q2=float(np.median(arr2))\n",
    "print(\"Second quantile:\",q2)\n",
    "q3=float(np.quantile(arr2,0.75))\n",
    "print(\"Third quantile:\",q3)\n",
    "print(\"PRINTING OUTLIERS:)\")\n",
    "IQR=q3-q1                       #Inter quartile\n",
    "lower=float(q1-1.5*IQR)\n",
    "upper=float(q3+1.5*IQR)\n",
    "print(\"Lower limit:\",lower)\n",
    "print(\"Upper limit:\",upper)\n",
    "print(\"Values not in range\",(lower, upper),\"are Absurd values\")\n",
    "check1=arr2[arr2<lower]\n",
    "check2=arr2[arr2>upper]\n",
    "print(check1,check2,\"are the absurd values\")\n",
    "\n",
    "\n",
    "\n",
    "\n",
    "\n"
   ]
  },
  {
   "cell_type": "code",
   "execution_count": 33,
   "metadata": {},
   "outputs": [
    {
     "name": "stdout",
     "output_type": "stream",
     "text": [
      "We will replace the absurd values with mean/mode/median acc to the question.\n"
     ]
    }
   ],
   "source": [
    "#question 9\n",
    "print(\"We will replace the absurd values with mean/mode/median acc to the question.\")"
   ]
  },
  {
   "cell_type": "code",
   "execution_count": 41,
   "metadata": {},
   "outputs": [
    {
     "name": "stdout",
     "output_type": "stream",
     "text": [
      "Values not in range (-11.125, 41.875) are outliers\n",
      "Lower outliers index: (array([0], dtype=int64), array([1], dtype=int64), array([3], dtype=int64), array([0], dtype=int64))\n",
      "Upper outliers index: (array([3], dtype=int64), array([0], dtype=int64), array([5], dtype=int64), array([1], dtype=int64))\n"
     ]
    }
   ],
   "source": [
    "#question 10\n",
    "print(\"Values not in range\",(lower, upper),\"are outliers\")\n",
    "ind1=np.where(arr2<lower)\n",
    "ind2=np.where(arr2>upper)\n",
    "print(\"Lower outliers index:\",ind1)\n",
    "print(\"Upper outliers index:\",ind2)\n",
    "\n",
    "\n"
   ]
  },
  {
   "cell_type": "code",
   "execution_count": 15,
   "metadata": {},
   "outputs": [
    {
     "name": "stdout",
     "output_type": "stream",
     "text": [
      "Replacing outliers with appropriate values\n"
     ]
    }
   ],
   "source": [
    "#question 11\n",
    "print(\"Replacing outliers with appropriate values\")\n"
   ]
  },
  {
   "cell_type": "code",
   "execution_count": 16,
   "metadata": {},
   "outputs": [
    {
     "name": "stdout",
     "output_type": "stream",
     "text": [
      "Average max temp for winter months\n",
      "[[[20 24 31 23 30 25 26]\n",
      "  [21 29 25 24 24 22 21]\n",
      "  [24 30 29 28 22 23 25]\n",
      "  [31 28 25 26 29 21 22]]\n",
      "\n",
      " [[26 30 32 22 32 22 28]\n",
      "  [26 22 26 22 27 29 26]\n",
      "  [21 23 25 31 32 26 26]\n",
      "  [20 29 22 20 29 22 26]]\n",
      "\n",
      " [[20 21 21 21 21  7  2]\n",
      "  [21 18 22 18 22  2  2]\n",
      "  [20 22 18 22 22  7  5]\n",
      "  [18 21 20 18 19  4  3]]\n",
      "\n",
      " [[22 20 22 22 20 71 10]\n",
      "  [21 22 18 20 21 10  9]\n",
      "  [22 19 19 18 18  7 10]\n",
      "  [20 19 21 21 20 10 12]]]\n"
     ]
    },
    {
     "data": {
      "text/plain": [
       "21.526785714285715"
      ]
     },
     "execution_count": 16,
     "metadata": {},
     "output_type": "execute_result"
    }
   ],
   "source": [
    "#question 12\n",
    "print(\"Average max temp for winter months\")\n",
    "x=arr2[:,:,:,1]\n",
    "print(x)\n",
    "np.average(x)\n",
    "\n"
   ]
  },
  {
   "cell_type": "code",
   "execution_count": 17,
   "metadata": {},
   "outputs": [
    {
     "name": "stdout",
     "output_type": "stream",
     "text": [
      "Weekly min avg temp for month of dec\n",
      "Min avg temp for 1st week\n",
      "[ 7 12 11 12 12  9 13]\n",
      "10.857142857142858\n",
      "Min avg temp for 2nd week\n",
      "[13 10 12 13 11  9 13]\n",
      "11.571428571428571\n",
      "Min avg temp for 3rd week\n",
      "[15 11  9  8  8  6 11]\n",
      "9.714285714285714\n",
      "Min avg temp for 4th week\n",
      "[12 10  9 15 10 14  8]\n",
      "11.142857142857142\n"
     ]
    }
   ],
   "source": [
    "#question 13\n",
    "print(\"Weekly min avg temp for month of dec\")\n",
    "print(\"Min avg temp for 1st week\")\n",
    "arr3=arr2[1,0,:,0]\n",
    "print(arr3)\n",
    "print(np.average(arr3))\n",
    "print(\"Min avg temp for 2nd week\")\n",
    "arr3=arr2[1,1,:,0]\n",
    "print(arr3)\n",
    "print(np.average(arr3))\n",
    "print(\"Min avg temp for 3rd week\")\n",
    "arr3=arr2[1,2,:,0]\n",
    "print(arr3)\n",
    "print(np.average(arr3))\n",
    "print(\"Min avg temp for 4th week\")\n",
    "arr3=arr2[1,3,:,0]\n",
    "print(arr3)\n",
    "print(np.average(arr3))"
   ]
  },
  {
   "cell_type": "code",
   "execution_count": 18,
   "metadata": {},
   "outputs": [
    {
     "name": "stdout",
     "output_type": "stream",
     "text": [
      "Overall avg temp for months dec and jan\n",
      "14.857142857142858\n"
     ]
    }
   ],
   "source": [
    "#question 14\n",
    "print(\"Overall avg temp for months dec and jan\")\n",
    "arr3=arr2[1:3,:,:,:]\n",
    "print(np.average(arr3))"
   ]
  },
  {
   "cell_type": "code",
   "execution_count": 43,
   "metadata": {},
   "outputs": [
    {
     "name": "stdout",
     "output_type": "stream",
     "text": [
      "least temp experienced by the city in the month of Dec and Jan\n",
      "least temp: 2\n"
     ]
    }
   ],
   "source": [
    "#question 15\n",
    "print(\"least temp experienced by the city in the month of Dec and Jan\")\n",
    "tp1=arr2[1:3,:,:,:]\n",
    "temp1=np.min(tp1)\n",
    "print(\"least temp:\",temp1)\n",
    "\n",
    "\n",
    "\n",
    " "
   ]
  },
  {
   "cell_type": "code",
   "execution_count": 20,
   "metadata": {},
   "outputs": [
    {
     "name": "stdout",
     "output_type": "stream",
     "text": [
      "max temp in the month of Feb and return its date\n",
      "Max temp: 71\n"
     ]
    }
   ],
   "source": [
    "#question 16\n",
    "print(\"max temp in the month of Feb and return its date\")\n",
    "tp2=arr2[3,:,:,:]\n",
    "temp2=np.max(tp2)\n",
    "print(\"Max temp:\", temp2)"
   ]
  },
  {
   "cell_type": "code",
   "execution_count": 21,
   "metadata": {},
   "outputs": [
    {
     "name": "stdout",
     "output_type": "stream",
     "text": [
      "days in the month of Nov where the max temp of the day dropped below the avg temp of the month\n",
      "avg temp of the month is: 17.160714285714285\n",
      "[]\n",
      "No such day is there.\n"
     ]
    }
   ],
   "source": [
    "#question 17\n",
    "print(\"days in the month of Nov where the max temp of the day dropped below the avg temp of the month\")\n",
    "nov=arr2[0,:,:,:]\n",
    "avgg=np.average(nov)\n",
    "print(\"avg temp of the month is:\",avgg)\n",
    "temp=arr2[0,:,:,1]\n",
    "var=temp[temp<avgg]\n",
    "print(var)\n",
    "print(\"No such day is there.\")"
   ]
  },
  {
   "cell_type": "code",
   "execution_count": 22,
   "metadata": {},
   "outputs": [
    {
     "name": "stdout",
     "output_type": "stream",
     "text": [
      "An array where the weeks of the same month must be present in the same row :\n"
     ]
    },
    {
     "data": {
      "text/plain": [
       "array([[ 11,  20,   8,  24,  11,  31,  11,  23,   6,  30,  10,  25,   7,\n",
       "         26,  15,  21,  12,  29,  10,  25, -13,  24,   9,  24,   9,  22,\n",
       "          9,  21,  10,  24,   9,  30,   9,  29,   7,  28,  14,  22,   7,\n",
       "         23,   7,  25,  10,  31,  13,  28,   9,  25,  13,  26,   9,  29,\n",
       "          8,  21,  13,  22],\n",
       "       [  7,  26,  12,  30,  11,  32,  12,  22,  12,  32,   9,  22,  13,\n",
       "         28,  13,  26,  10,  22,  12,  26,  13,  22,  11,  27,   9,  29,\n",
       "         13,  26,  15,  21,  11,  23,   9,  25,   8,  31,   8,  32,   6,\n",
       "         26,  11,  26,  12,  20,  10,  29,   9,  22,  15,  20,  10,  29,\n",
       "         14,  22,   8,  26],\n",
       "       [  7,  20,   8,  21,   4,  21,   7,  21,   2,  21,   5,   7,  21,\n",
       "          2,   3,  21,   3,  18,   6,  22,   7,  18,   6,  22,   4,   2,\n",
       "         20,   2,   3,  20,   8,  22,   2,  18,   6,  22,   8,  22,   5,\n",
       "          7,  18,   5,   5,  18,   3,  21,   7,  20,   3,  18,   2,  19,\n",
       "          8,   4,  21,   3],\n",
       "       [  8,  22,   8,  20, -10,  22,  12,  22,   7,  20,  11,  71,  22,\n",
       "         10,  11,  21,   9,  22,  12,  18,   8,  20,  12,  21,   8,  10,\n",
       "         21,   9,   8,  22,  11,  19,  11,  19,   9,  18,  10,  18,   8,\n",
       "          7,  22,  10,   9,  20,  12,  19,   7,  21,  10,  21,   9,  20,\n",
       "          8,  10,  19,  12]])"
      ]
     },
     "execution_count": 22,
     "metadata": {},
     "output_type": "execute_result"
    }
   ],
   "source": [
    "#question 18\n",
    "print(\"An array where the weeks of the same month must be present in the same row :\")\n",
    "arr4=arr2.reshape(4,56)\n",
    "arr4"
   ]
  },
  {
   "cell_type": "code",
   "execution_count": 23,
   "metadata": {},
   "outputs": [
    {
     "name": "stdout",
     "output_type": "stream",
     "text": [
      "Array storing data in fahrenheit\n",
      "[[[[ 51.8  68. ]\n",
      "   [ 46.4  75.2]\n",
      "   [ 51.8  87.8]\n",
      "   [ 51.8  73.4]\n",
      "   [ 42.8  86. ]\n",
      "   [ 50.   77. ]\n",
      "   [ 44.6  78.8]]\n",
      "\n",
      "  [[ 59.   69.8]\n",
      "   [ 53.6  84.2]\n",
      "   [ 50.   77. ]\n",
      "   [  8.6  75.2]\n",
      "   [ 48.2  75.2]\n",
      "   [ 48.2  71.6]\n",
      "   [ 48.2  69.8]]\n",
      "\n",
      "  [[ 50.   75.2]\n",
      "   [ 48.2  86. ]\n",
      "   [ 48.2  84.2]\n",
      "   [ 44.6  82.4]\n",
      "   [ 57.2  71.6]\n",
      "   [ 44.6  73.4]\n",
      "   [ 44.6  77. ]]\n",
      "\n",
      "  [[ 50.   87.8]\n",
      "   [ 55.4  82.4]\n",
      "   [ 48.2  77. ]\n",
      "   [ 55.4  78.8]\n",
      "   [ 48.2  84.2]\n",
      "   [ 46.4  69.8]\n",
      "   [ 55.4  71.6]]]\n",
      "\n",
      "\n",
      " [[[ 44.6  78.8]\n",
      "   [ 53.6  86. ]\n",
      "   [ 51.8  89.6]\n",
      "   [ 53.6  71.6]\n",
      "   [ 53.6  89.6]\n",
      "   [ 48.2  71.6]\n",
      "   [ 55.4  82.4]]\n",
      "\n",
      "  [[ 55.4  78.8]\n",
      "   [ 50.   71.6]\n",
      "   [ 53.6  78.8]\n",
      "   [ 55.4  71.6]\n",
      "   [ 51.8  80.6]\n",
      "   [ 48.2  84.2]\n",
      "   [ 55.4  78.8]]\n",
      "\n",
      "  [[ 59.   69.8]\n",
      "   [ 51.8  73.4]\n",
      "   [ 48.2  77. ]\n",
      "   [ 46.4  87.8]\n",
      "   [ 46.4  89.6]\n",
      "   [ 42.8  78.8]\n",
      "   [ 51.8  78.8]]\n",
      "\n",
      "  [[ 53.6  68. ]\n",
      "   [ 50.   84.2]\n",
      "   [ 48.2  71.6]\n",
      "   [ 59.   68. ]\n",
      "   [ 50.   84.2]\n",
      "   [ 57.2  71.6]\n",
      "   [ 46.4  78.8]]]\n",
      "\n",
      "\n",
      " [[[ 44.6  68. ]\n",
      "   [ 46.4  69.8]\n",
      "   [ 39.2  69.8]\n",
      "   [ 44.6  69.8]\n",
      "   [ 35.6  69.8]\n",
      "   [ 41.   44.6]\n",
      "   [ 69.8  35.6]]\n",
      "\n",
      "  [[ 37.4  69.8]\n",
      "   [ 37.4  64.4]\n",
      "   [ 42.8  71.6]\n",
      "   [ 44.6  64.4]\n",
      "   [ 42.8  71.6]\n",
      "   [ 39.2  35.6]\n",
      "   [ 68.   35.6]]\n",
      "\n",
      "  [[ 37.4  68. ]\n",
      "   [ 46.4  71.6]\n",
      "   [ 35.6  64.4]\n",
      "   [ 42.8  71.6]\n",
      "   [ 46.4  71.6]\n",
      "   [ 41.   44.6]\n",
      "   [ 64.4  41. ]]\n",
      "\n",
      "  [[ 41.   64.4]\n",
      "   [ 37.4  69.8]\n",
      "   [ 44.6  68. ]\n",
      "   [ 37.4  64.4]\n",
      "   [ 35.6  66.2]\n",
      "   [ 46.4  39.2]\n",
      "   [ 69.8  37.4]]]\n",
      "\n",
      "\n",
      " [[[ 46.4  71.6]\n",
      "   [ 46.4  68. ]\n",
      "   [ 14.   71.6]\n",
      "   [ 53.6  71.6]\n",
      "   [ 44.6  68. ]\n",
      "   [ 51.8 159.8]\n",
      "   [ 71.6  50. ]]\n",
      "\n",
      "  [[ 51.8  69.8]\n",
      "   [ 48.2  71.6]\n",
      "   [ 53.6  64.4]\n",
      "   [ 46.4  68. ]\n",
      "   [ 53.6  69.8]\n",
      "   [ 46.4  50. ]\n",
      "   [ 69.8  48.2]]\n",
      "\n",
      "  [[ 46.4  71.6]\n",
      "   [ 51.8  66.2]\n",
      "   [ 51.8  66.2]\n",
      "   [ 48.2  64.4]\n",
      "   [ 50.   64.4]\n",
      "   [ 46.4  44.6]\n",
      "   [ 71.6  50. ]]\n",
      "\n",
      "  [[ 48.2  68. ]\n",
      "   [ 53.6  66.2]\n",
      "   [ 44.6  69.8]\n",
      "   [ 50.   69.8]\n",
      "   [ 48.2  68. ]\n",
      "   [ 46.4  50. ]\n",
      "   [ 66.2  53.6]]]]\n"
     ]
    }
   ],
   "source": [
    "#question 19\n",
    "print(\"Array storing data in fahrenheit\")\n",
    "arr4=(arr2*9)/5 +32\n",
    "print(arr4)"
   ]
  },
  {
   "cell_type": "code",
   "execution_count": 24,
   "metadata": {},
   "outputs": [
    {
     "name": "stdout",
     "output_type": "stream",
     "text": [
      "Sorting in descending order on the basis of the weekly avvg for dec month\n",
      "Average for first week: 19.142857142857142\n",
      "Average for 2nd week 18.5\n",
      "Average for 3rd week 18.0\n",
      "Average for 4th week 17.571428571428573\n",
      "[19.14285714 18.5        18.         17.57142857]\n",
      "[[11 20]\n",
      " [ 8 24]\n",
      " [11 31]\n",
      " [11 23]\n",
      " [ 6 30]\n",
      " [10 25]\n",
      " [ 7 26]]\n",
      "[[ 15  21]\n",
      " [ 12  29]\n",
      " [ 10  25]\n",
      " [-13  24]\n",
      " [  9  24]\n",
      " [  9  22]\n",
      " [  9  21]]\n",
      "[[10 24]\n",
      " [ 9 30]\n",
      " [ 9 29]\n",
      " [ 7 28]\n",
      " [14 22]\n",
      " [ 7 23]\n",
      " [ 7 25]]\n",
      "[[10 31]\n",
      " [13 28]\n",
      " [ 9 25]\n",
      " [13 26]\n",
      " [ 9 29]\n",
      " [ 8 21]\n",
      " [13 22]]\n"
     ]
    }
   ],
   "source": [
    "#question 20\n",
    "print(\"Sorting in descending order on the basis of the weekly avvg for dec month\")\n",
    "arr6=arr2[1,0,:,:]\n",
    "avg1=np.average(arr6)\n",
    "print(\"Average for first week:\",avg1)\n",
    "arr6=arr2[1,1,:,:]\n",
    "avg2=np.average(arr6)\n",
    "print(\"Average for 2nd week\",avg2)\n",
    "arr6=arr2[1,2,:,:]\n",
    "avg3=np.average(arr6)\n",
    "print(\"Average for 3rd week\",avg3)\n",
    "arr6=arr2[1,3,:,:]\n",
    "avg4=np.average(arr6)\n",
    "print(\"Average for 4th week\",avg4)\n",
    "arrr=np.array([avg1,avg2,avg3,avg4])\n",
    "print(np.sort(arrr)[::-1])\n",
    "#printing array acc to the result we got from week sorting\n",
    "print(arr2[0,0,:,:])\n",
    "print(arr2[0,1,:,:])\n",
    "print(arr2[0,2,:,:])\n",
    "print(arr2[0,3,:,:])\n"
   ]
  },
  {
   "cell_type": "code",
   "execution_count": 25,
   "metadata": {},
   "outputs": [
    {
     "name": "stdout",
     "output_type": "stream",
     "text": [
      "Sort the temp of the first three days of each month in descending order on the basis of overall average for the whole winter.\n",
      "Average temp for whole winter: 15.450892857142858\n"
     ]
    },
    {
     "data": {
      "text/plain": [
       "array([[[ 11,  20],\n",
       "        [  8,  24],\n",
       "        [ 11,  31]],\n",
       "\n",
       "       [[  7,  26],\n",
       "        [ 12,  30],\n",
       "        [ 11,  32]],\n",
       "\n",
       "       [[  7,  20],\n",
       "        [  8,  21],\n",
       "        [  4,  21]],\n",
       "\n",
       "       [[  8,  22],\n",
       "        [  8,  20],\n",
       "        [-10,  22]]])"
      ]
     },
     "execution_count": 25,
     "metadata": {},
     "output_type": "execute_result"
    }
   ],
   "source": [
    "#question 21\n",
    "print(\"Sort the temp of the first three days of each month in descending order on the basis of overall average for the whole winter.\")\n",
    "avg=np.average(arr2)\n",
    "print(\"Average temp for whole winter:\",avg)\n",
    "arr7=arr2[:,0,0:3,:]\n",
    "arr7\n",
    "\n"
   ]
  },
  {
   "cell_type": "code",
   "execution_count": 26,
   "metadata": {},
   "outputs": [
    {
     "name": "stdout",
     "output_type": "stream",
     "text": [
      "Array that stores the difference between the min and max temp for each day\n",
      "[[[  9  16  20  12  24  15  19]\n",
      "  [  6  17  15  37  15  13  12]\n",
      "  [ 14  21  20  21   8  16  18]\n",
      "  [ 21  15  16  13  20  13   9]]\n",
      "\n",
      " [[ 19  18  21  10  20  13  15]\n",
      "  [ 13  12  14   9  16  20  13]\n",
      "  [  6  12  16  23  24  20  15]\n",
      "  [  8  19  13   5  19   8  18]]\n",
      "\n",
      " [[ 13  13  17  14  19   2 -19]\n",
      "  [ 18  15  16  11  16  -2 -18]\n",
      "  [ 17  14  16  16  14   2 -13]\n",
      "  [ 13  18  13  15  17  -4 -18]]\n",
      "\n",
      " [[ 14  12  32  10  13  60 -12]\n",
      "  [ 10  13   6  12   9   2 -12]\n",
      "  [ 14   8   8   9   8  -1 -12]\n",
      "  [ 11   7  14  11  11   2  -7]]]\n"
     ]
    }
   ],
   "source": [
    "#question 22\n",
    "print(\"Array that stores the difference between the min and max temp for each day\")\n",
    "arrr1=arr2[:,:,:,0]\n",
    "arrr2=arr2[:,:,:,1]\n",
    "arrr3=arrr2-arrr1\n",
    "print(arrr3)"
   ]
  },
  {
   "cell_type": "code",
   "execution_count": 27,
   "metadata": {},
   "outputs": [
    {
     "name": "stdout",
     "output_type": "stream",
     "text": [
      "Difference between the max temp of two consecutive days for each month\n"
     ]
    },
    {
     "data": {
      "text/plain": [
       "array([[[ 4,  7,  8,  7,  5,  1],\n",
       "        [ 8,  4,  1,  0,  2,  1],\n",
       "        [ 6,  1,  1,  6,  1,  2],\n",
       "        [ 3,  3,  1,  3,  8,  1]],\n",
       "\n",
       "       [[ 4,  2, 10, 10, 10,  6],\n",
       "        [ 4,  4,  4,  5,  2,  3],\n",
       "        [ 2,  2,  6,  1,  6,  0],\n",
       "        [ 9,  7,  2,  9,  7,  4]],\n",
       "\n",
       "       [[ 1,  0,  0,  0, 14,  5],\n",
       "        [ 3,  4,  4,  4, 20,  0],\n",
       "        [ 2,  4,  4,  0, 15,  2],\n",
       "        [ 3,  1,  2,  1, 15,  1]],\n",
       "\n",
       "       [[ 2,  2,  0,  2, 51, 61],\n",
       "        [ 1,  4,  2,  1, 11,  1],\n",
       "        [ 3,  0,  1,  0, 11,  3],\n",
       "        [ 1,  2,  0,  1, 10,  2]]])"
      ]
     },
     "execution_count": 27,
     "metadata": {},
     "output_type": "execute_result"
    }
   ],
   "source": [
    "#question 23\n",
    "print(\"Difference between the max temp of two consecutive days for each month\")\n",
    "ar1=abs(arr2[:,:,1:,1]-arr2[:,:,:6,1])\n",
    "ar1\n"
   ]
  },
  {
   "cell_type": "code",
   "execution_count": 28,
   "metadata": {},
   "outputs": [
    {
     "name": "stdout",
     "output_type": "stream",
     "text": [
      "Difference between the minimum temp of two consecutive days for each month\n"
     ]
    },
    {
     "data": {
      "text/plain": [
       "array([[[ 3,  3,  0,  5,  4,  3],\n",
       "        [ 3,  2, 23, 22,  0,  0],\n",
       "        [ 1,  0,  2,  7,  7,  0],\n",
       "        [ 3,  4,  4,  4,  1,  5]],\n",
       "\n",
       "       [[ 5,  1,  1,  0,  3,  4],\n",
       "        [ 3,  2,  1,  2,  2,  4],\n",
       "        [ 4,  2,  1,  0,  2,  5],\n",
       "        [ 2,  1,  6,  5,  4,  6]],\n",
       "\n",
       "       [[ 1,  4,  3,  5,  3, 16],\n",
       "        [ 0,  3,  1,  1,  2, 16],\n",
       "        [ 5,  6,  4,  2,  3, 13],\n",
       "        [ 2,  4,  4,  1,  6, 13]],\n",
       "\n",
       "       [[ 0, 18, 22,  5,  4, 11],\n",
       "        [ 2,  3,  4,  4,  4, 13],\n",
       "        [ 3,  0,  2,  1,  2, 14],\n",
       "        [ 3,  5,  3,  1,  1, 11]]])"
      ]
     },
     "execution_count": 28,
     "metadata": {},
     "output_type": "execute_result"
    }
   ],
   "source": [
    "#question 24\n",
    "print(\"Difference between the minimum temp of two consecutive days for each month\")\n",
    "ar2=abs(arr2[:,:,1:,0]-arr2[:,:,:6,0])\n",
    "ar2\n",
    "\n"
   ]
  },
  {
   "cell_type": "code",
   "execution_count": 29,
   "metadata": {},
   "outputs": [
    {
     "name": "stdout",
     "output_type": "stream",
     "text": [
      "Combining arrays of q23 and q24\n",
      "[[[ 4  7  8  7  5  1]\n",
      "  [ 8  4  1  0  2  1]\n",
      "  [ 6  1  1  6  1  2]\n",
      "  [ 3  3  1  3  8  1]]\n",
      "\n",
      " [[ 4  2 10 10 10  6]\n",
      "  [ 4  4  4  5  2  3]\n",
      "  [ 2  2  6  1  6  0]\n",
      "  [ 9  7  2  9  7  4]]\n",
      "\n",
      " [[ 1  0  0  0 14  5]\n",
      "  [ 3  4  4  4 20  0]\n",
      "  [ 2  4  4  0 15  2]\n",
      "  [ 3  1  2  1 15  1]]\n",
      "\n",
      " [[ 2  2  0  2 51 61]\n",
      "  [ 1  4  2  1 11  1]\n",
      "  [ 3  0  1  0 11  3]\n",
      "  [ 1  2  0  1 10  2]]\n",
      "\n",
      " [[ 3  3  0  5  4  3]\n",
      "  [ 3  2 23 22  0  0]\n",
      "  [ 1  0  2  7  7  0]\n",
      "  [ 3  4  4  4  1  5]]\n",
      "\n",
      " [[ 5  1  1  0  3  4]\n",
      "  [ 3  2  1  2  2  4]\n",
      "  [ 4  2  1  0  2  5]\n",
      "  [ 2  1  6  5  4  6]]\n",
      "\n",
      " [[ 1  4  3  5  3 16]\n",
      "  [ 0  3  1  1  2 16]\n",
      "  [ 5  6  4  2  3 13]\n",
      "  [ 2  4  4  1  6 13]]\n",
      "\n",
      " [[ 0 18 22  5  4 11]\n",
      "  [ 2  3  4  4  4 13]\n",
      "  [ 3  0  2  1  2 14]\n",
      "  [ 3  5  3  1  1 11]]]\n"
     ]
    }
   ],
   "source": [
    "#question 25\n",
    "print(\"Combining arrays of q23 and q24\")\n",
    "ar3=np.concatenate([ar1, ar2])\n",
    "print(ar3)"
   ]
  },
  {
   "cell_type": "code",
   "execution_count": null,
   "metadata": {},
   "outputs": [],
   "source": [
    "week=var[0]\n",
    "day=var[1]\n",
    "days={0:'Monday',1:'Tuesday',2:'Wednesday',3:'Thursday',4:'Friday',5:'Saturday',6:'Sunday'}\n",
    "for i in week:\n",
    "    print(\"week:\",i+1,\"day:\",days)"
   ]
  }
 ],
 "metadata": {
  "kernelspec": {
   "display_name": "Python 3",
   "language": "python",
   "name": "python3"
  },
  "language_info": {
   "codemirror_mode": {
    "name": "ipython",
    "version": 3
   },
   "file_extension": ".py",
   "mimetype": "text/x-python",
   "name": "python",
   "nbconvert_exporter": "python",
   "pygments_lexer": "ipython3",
   "version": "3.10.9"
  },
  "orig_nbformat": 4
 },
 "nbformat": 4,
 "nbformat_minor": 2
}
